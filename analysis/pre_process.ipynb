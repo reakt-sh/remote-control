{
 "cells": [
  {
   "cell_type": "code",
   "execution_count": 23,
   "id": "3b4c23f5",
   "metadata": {},
   "outputs": [],
   "source": [
    "import json\n",
    "import os\n",
    "import glob\n",
    "import numpy as np\n",
    "from datetime import datetime\n",
    "\n",
    "# Set up paths\n",
    "analysis_dir = \"/home/rcd/Desktop/Workspace/remote-control/analysis\"\n",
    "output_dir = os.path.join(analysis_dir, \"29_08_2025\", \"pre_processed\")\n",
    "os.makedirs(output_dir, exist_ok=True)"
   ]
  },
  {
   "cell_type": "code",
   "execution_count": null,
   "id": "883e3696",
   "metadata": {},
   "outputs": [
    {
     "name": "stdout",
     "output_type": "stream",
     "text": [
      "Processing: Train_Client(Laptop)_Web_Client(Mobile_BD)_1bdb4d47-a2e0-4148-a721-796cf6ff755b_Latency.json\n",
      "Processing: Train_Client(Laptop)_Web_Client(Mobile_DE)_5d6a5a85-6566-45b9-8b57-48e886539e0b_Latency.json\n",
      "Processing: Train_Client(Laptop)_Web_Client(Laptop)_e1c07b43-9e1e-4438-ade8-a320a030e494_Latency.json\n"
     ]
    }
   ],
   "source": [
    "def find_latency_json_files(directory):\n",
    "    \"\"\"Find all latency JSON files in the analysis directory\"\"\"\n",
    "    json_files = []\n",
    "\n",
    "    # Search for JSON files in the analysis directory and subdirectories\n",
    "    for root, dirs, files in os.walk(directory):\n",
    "        for file in files:\n",
    "            if file.endswith('.json') and 'Latency' in file:\n",
    "                json_files.append(os.path.join(root, file))\n",
    "\n",
    "    # Also check for the other format (train_*.json)\n",
    "    pattern = os.path.join(directory, \"train_*_latency_*.json\")\n",
    "    json_files.extend(glob.glob(pattern))\n",
    "\n",
    "    return json_files\n",
    "\n",
    "json_files = find_latency_json_files(analysis_dir)\n",
    "for x in json_files:\n",
    "    print(f\"Processing: {os.path.basename(x)}\")"
   ]
  },
  {
   "cell_type": "code",
   "execution_count": null,
   "id": "6e638a41",
   "metadata": {},
   "outputs": [],
   "source": [
    "def calculate_statistics(data_list):\n",
    "    \"\"\"Calculate count, average, min, max for a list of values\"\"\"\n",
    "    if not data_list:\n",
    "        return {\"count\": 0, \"avg\": 0, \"min\": 0, \"max\": 0}\n",
    "\n",
    "    return {\n",
    "        \"count\": len(data_list),\n",
    "        \"avg\": np.mean(data_list),\n",
    "        \"min\": np.min(data_list),\n",
    "        \"max\": np.max(data_list)\n",
    "    }\n",
    "\n",
    "def process_telemetry_data(telemetry_latencies, video_latencies=None):\n",
    "    \"\"\"Process both telemetry and video latency data and recalculate statistics\"\"\"\n",
    "    # Initialize lists for each transport method\n",
    "    websocket_data = []\n",
    "    webtransport_data = []\n",
    "    mqtt_data = []\n",
    "    videoframe_data = []\n",
    "\n",
    "    # Extract data from telemetry entries\n",
    "    for entry in telemetry_latencies:\n",
    "        if 'ws' in entry and entry['ws'] is not None:\n",
    "            websocket_data.append(entry['ws'])\n",
    "        if 'wt' in entry and entry['wt'] is not None:\n",
    "            webtransport_data.append(entry['wt'])\n",
    "        if 'mqtt' in entry and entry['mqtt'] is not None:\n",
    "            mqtt_data.append(entry['mqtt'])\n",
    "\n",
    "    # Extract data from video latencies if available\n",
    "    if video_latencies:\n",
    "        for entry in video_latencies:\n",
    "            if 'latency' in entry and entry['latency'] is not None:\n",
    "                videoframe_data.append(entry['latency'])\n",
    "\n",
    "    # Calculate statistics for each transport method\n",
    "    statistics = {\n",
    "        \"websocket\": calculate_statistics(websocket_data),\n",
    "        \"webtransport\": calculate_statistics(webtransport_data),\n",
    "        \"mqtt\": calculate_statistics(mqtt_data),\n",
    "        \"videoframe\": calculate_statistics(videoframe_data)\n",
    "    }\n",
    "\n",
    "    return statistics"
   ]
  },
  {
   "cell_type": "code",
   "execution_count": 26,
   "id": "9b6678a1",
   "metadata": {},
   "outputs": [],
   "source": [
    "def process_json_file(file_path, output_dir):\n",
    "    \"\"\"Process a single JSON file and save the result\"\"\"\n",
    "    try:\n",
    "        # Load the JSON file\n",
    "        with open(file_path, 'r') as f:\n",
    "            data = json.load(f)\n",
    "        \n",
    "        # Check if telemetryLatencies exists\n",
    "        if 'telemetryLatencies' not in data:\n",
    "            return False\n",
    "        \n",
    "        # Get video latencies if available\n",
    "        video_latencies = data.get('videoLatencies', None)\n",
    "        \n",
    "        # Recalculate statistics\n",
    "        new_statistics = process_telemetry_data(data['telemetryLatencies'], video_latencies)\n",
    "        \n",
    "        # Update the data with new statistics\n",
    "        data['statistics'] = new_statistics\n",
    "        data['processingTime'] = datetime.now().isoformat()\n",
    "        data['originalFile'] = os.path.basename(file_path)\n",
    "        \n",
    "        # Generate output filename\n",
    "        original_filename = os.path.basename(file_path)\n",
    "        output_filename = f\"processed_{original_filename}\"\n",
    "        output_path = os.path.join(output_dir, output_filename)\n",
    "        \n",
    "        # Save the processed data\n",
    "        with open(output_path, 'w') as f:\n",
    "            json.dump(data, f, indent=2)\n",
    "        \n",
    "        return True\n",
    "        \n",
    "    except Exception as e:\n",
    "        return False"
   ]
  },
  {
   "cell_type": "code",
   "execution_count": 27,
   "id": "35a7ffa6",
   "metadata": {},
   "outputs": [],
   "source": [
    "# Process all JSON files\n",
    "for json_file in json_files:\n",
    "    process_json_file(json_file, output_dir)"
   ]
  },
  {
   "cell_type": "code",
   "execution_count": null,
   "id": "8b2dbcc9",
   "metadata": {},
   "outputs": [],
   "source": []
  }
 ],
 "metadata": {
  "kernelspec": {
   "display_name": "rc_venv",
   "language": "python",
   "name": "python3"
  },
  "language_info": {
   "codemirror_mode": {
    "name": "ipython",
    "version": 3
   },
   "file_extension": ".py",
   "mimetype": "text/x-python",
   "name": "python",
   "nbconvert_exporter": "python",
   "pygments_lexer": "ipython3",
   "version": "3.12.3"
  }
 },
 "nbformat": 4,
 "nbformat_minor": 5
}
