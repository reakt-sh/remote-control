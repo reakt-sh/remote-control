{
 "cells": [
  {
   "cell_type": "markdown",
   "id": "468d5da3",
   "metadata": {},
   "source": [
    "### Convert H.264 Stream to MP4 Container"
   ]
  },
  {
   "cell_type": "markdown",
   "id": "1f04c07a",
   "metadata": {},
   "source": []
  },
  {
   "cell_type": "code",
   "execution_count": null,
   "id": "eac86865",
   "metadata": {},
   "outputs": [],
   "source": [
    "# Import required libraries\n",
    "import os\n",
    "import subprocess\n",
    "import shutil\n",
    "from pathlib import Path\n",
    "from IPython.display import Video, display\n",
    "import matplotlib.pyplot as plt\n",
    "import time"
   ]
  },
  {
   "cell_type": "markdown",
   "id": "e5af0476",
   "metadata": {},
   "source": [
    "#### Function to convert H.264 to MP4"
   ]
  },
  {
   "cell_type": "code",
   "execution_count": 2,
   "id": "92f2f099",
   "metadata": {},
   "outputs": [],
   "source": [
    "def h264_to_mp4(input_path, output_path, framerate=30, crf=23, preset='medium', audio=None):\n",
    "    \"\"\"\n",
    "    Parameters:\n",
    "    - input_path: Path to the input H.264 file\n",
    "    - output_path: Path for the output MP4 file\n",
    "    - framerate: Frames per second (default: 30)\n",
    "    - crf: Constant Rate Factor (0-51, lower is better quality, default: 23)\n",
    "    - preset: Encoding speed preset (ultrafast, superfast, veryfast, faster, fast, \n",
    "              medium, slow, slower, veryslow, default: medium)\n",
    "    - audio: Optional path to audio file to include in the output\n",
    "    \"\"\"\n",
    "    # Check if input file exists\n",
    "    if not os.path.exists(input_path):\n",
    "        raise FileNotFoundError(f\"Input file {input_path} does not exist\")\n",
    "\n",
    "    # Base command\n",
    "    cmd = [\n",
    "        'ffmpeg',\n",
    "        '-y',  # Overwrite output file if it exists\n",
    "        '-r', str(framerate),  # Input framerate\n",
    "        '-i', input_path,  # Input file\n",
    "        '-c:v', 'libx264',  # Video codec\n",
    "        '-crf', str(crf),  # Quality setting\n",
    "        '-preset', preset,  # Encoding speed preset\n",
    "        '-pix_fmt', 'yuv420p',  # Pixel format for compatibility\n",
    "        '-movflags', '+faststart'  # Enable streaming\n",
    "    ]\n",
    "\n",
    "    # Add audio if provided\n",
    "    if audio and os.path.exists(audio):\n",
    "        cmd.extend(['-i', audio, '-c:a', 'aac', '-strict', 'experimental'])\n",
    "\n",
    "    # Add output path\n",
    "    cmd.append(output_path)\n",
    "\n",
    "    # Run the command\n",
    "    print(\"Running command:\", ' '.join(cmd))\n",
    "    result = subprocess.run(cmd, capture_output=True, text=True)\n",
    "\n",
    "    if result.returncode != 0:\n",
    "        print(\"Error during conversion:\")\n",
    "        print(result.stderr)\n",
    "        return False\n",
    "\n",
    "    print(f\"Successfully converted {input_path} to {output_path}\")\n",
    "    return True"
   ]
  },
  {
   "cell_type": "markdown",
   "id": "727fb396",
   "metadata": {},
   "source": [
    "#### Function to get video information"
   ]
  },
  {
   "cell_type": "code",
   "execution_count": null,
   "id": "c3c42300",
   "metadata": {},
   "outputs": [],
   "source": [
    "def get_video_info(file_path):\n",
    "    \"\"\"Get information about a video file using ffprobe\"\"\"\n",
    "    cmd = [\n",
    "        'ffprobe',\n",
    "        '-v', 'quiet',\n",
    "        '-print_format', 'json',\n",
    "        '-show_format',\n",
    "        '-show_streams',\n",
    "        file_path\n",
    "    ]\n",
    "\n",
    "    result = subprocess.run(cmd, capture_output=True, text=True)\n",
    "    if result.returncode != 0:\n",
    "        print(\"Error getting video info:\")\n",
    "        print(result.stderr)\n",
    "        return None\n",
    "\n",
    "    import json\n",
    "    return json.loads(result.stdout)"
   ]
  },
  {
   "cell_type": "markdown",
   "id": "1f7ebfa7",
   "metadata": {},
   "source": [
    "#### Function to display video information"
   ]
  },
  {
   "cell_type": "code",
   "execution_count": 3,
   "id": "560d49f5",
   "metadata": {},
   "outputs": [],
   "source": [
    "def display_video_info(info):\n",
    "    \"\"\"Display video information in a readable format\"\"\"\n",
    "    if not info:\n",
    "        return\n",
    "\n",
    "    print(\"Video Information:\")\n",
    "    print(\"=\" * 50)\n",
    "\n",
    "    if 'streams' in info:\n",
    "        video_streams = [s for s in info['streams'] if s['codec_type'] == 'video']\n",
    "        audio_streams = [s for s in info['streams'] if s['codec_type'] == 'audio']\n",
    "\n",
    "        for i, stream in enumerate(video_streams):\n",
    "            print(f\"Video Stream {i}:\")\n",
    "            print(f\"  Codec: {stream.get('codec_name', 'N/A')}\")\n",
    "            print(f\"  Resolution: {stream.get('width', 'N/A')}x{stream.get('height', 'N/A')}\")\n",
    "            print(f\"  Bitrate: {stream.get('bit_rate', 'N/A')}\")\n",
    "            print(f\"  Duration: {stream.get('duration', 'N/A')} seconds\")\n",
    "            print(f\"  Framerate: {stream.get('r_frame_rate', 'N/A')}\")\n",
    "            print()\n",
    "\n",
    "        for i, stream in enumerate(audio_streams):\n",
    "            print(f\"Audio Stream {i}:\")\n",
    "            print(f\"  Codec: {stream.get('codec_name', 'N/A')}\")\n",
    "            print(f\"  Sample Rate: {stream.get('sample_rate', 'N/A')} Hz\")\n",
    "            print(f\"  Channels: {stream.get('channels', 'N/A')}\")\n",
    "            print(f\"  Bitrate: {stream.get('bit_rate', 'N/A')}\")\n",
    "            print()\n",
    "\n",
    "    if 'format' in info:\n",
    "        print(\"Container Format:\")\n",
    "        print(f\"  Format: {info['format'].get('format_name', 'N/A')}\")\n",
    "        print(f\"  Duration: {info['format'].get('duration', 'N/A')} seconds\")\n",
    "        print(f\"  Size: {int(info['format'].get('size', 0)) / (1024*1024):.2f} MB\")\n",
    "        print(f\"  Bitrate: {info['format'].get('bit_rate', 'N/A')}\")"
   ]
  },
  {
   "cell_type": "markdown",
   "id": "2b583f6f",
   "metadata": {},
   "source": [
    "#### Function to display video in notebook"
   ]
  },
  {
   "cell_type": "code",
   "execution_count": 4,
   "id": "4eb4d202",
   "metadata": {},
   "outputs": [],
   "source": [
    "def show_video(video_path, width=640):\n",
    "    \"\"\"Display video in Jupyter notebook\"\"\"\n",
    "    if not os.path.exists(video_path):\n",
    "        print(f\"Video file {video_path} does not exist\")\n",
    "        return\n",
    "\n",
    "    return Video(video_path, width=width, embed=True)"
   ]
  },
  {
   "cell_type": "markdown",
   "id": "10857411",
   "metadata": {},
   "source": [
    "#### Main conversion function with user interface"
   ]
  },
  {
   "cell_type": "code",
   "execution_count": 6,
   "id": "96894386",
   "metadata": {},
   "outputs": [
    {
     "ename": "NameError",
     "evalue": "name 'os' is not defined",
     "output_type": "error",
     "traceback": [
      "\u001b[31m---------------------------------------------------------------------------\u001b[39m",
      "\u001b[31mNameError\u001b[39m                                 Traceback (most recent call last)",
      "\u001b[36mCell\u001b[39m\u001b[36m \u001b[39m\u001b[32mIn[6]\u001b[39m\u001b[32m, line 81\u001b[39m\n\u001b[32m     78\u001b[39m         \u001b[38;5;28mprint\u001b[39m(\u001b[33m\"\u001b[39m\u001b[33mConversion failed.\u001b[39m\u001b[33m\"\u001b[39m)\n\u001b[32m     80\u001b[39m \u001b[38;5;66;03m# Run the conversion process\u001b[39;00m\n\u001b[32m---> \u001b[39m\u001b[32m81\u001b[39m \u001b[43mconvert_h264_to_mp4\u001b[49m\u001b[43m(\u001b[49m\u001b[43m)\u001b[49m\n",
      "\u001b[36mCell\u001b[39m\u001b[36m \u001b[39m\u001b[32mIn[6]\u001b[39m\u001b[32m, line 7\u001b[39m, in \u001b[36mconvert_h264_to_mp4\u001b[39m\u001b[34m()\u001b[39m\n\u001b[32m      4\u001b[39m \u001b[38;5;66;03m# Get input file path\u001b[39;00m\n\u001b[32m      5\u001b[39m input_path = \u001b[38;5;28minput\u001b[39m(\u001b[33m\"\u001b[39m\u001b[33mEnter the path to your H.264 file: \u001b[39m\u001b[33m\"\u001b[39m).strip().strip(\u001b[33m'\u001b[39m\u001b[33m\"\u001b[39m\u001b[33m'\u001b[39m)\n\u001b[32m----> \u001b[39m\u001b[32m7\u001b[39m \u001b[38;5;28;01mif\u001b[39;00m \u001b[38;5;129;01mnot\u001b[39;00m \u001b[43mos\u001b[49m.path.exists(input_path):\n\u001b[32m      8\u001b[39m     \u001b[38;5;28mprint\u001b[39m(\u001b[33mf\u001b[39m\u001b[33m\"\u001b[39m\u001b[33mFile \u001b[39m\u001b[38;5;132;01m{\u001b[39;00minput_path\u001b[38;5;132;01m}\u001b[39;00m\u001b[33m does not exist\u001b[39m\u001b[33m\"\u001b[39m)\n\u001b[32m      9\u001b[39m     \u001b[38;5;28;01mreturn\u001b[39;00m\n",
      "\u001b[31mNameError\u001b[39m: name 'os' is not defined"
     ]
    }
   ],
   "source": [
    "def convert_h264_to_mp4():\n",
    "    \"\"\"Main function to handle the conversion process\"\"\"\n",
    "\n",
    "    # Get input file path\n",
    "    input_path = input(\"Enter the path to your H.264 file: \").strip().strip('\"')\n",
    "\n",
    "    if not os.path.exists(input_path):\n",
    "        print(f\"File {input_path} does not exist\")\n",
    "        return\n",
    "\n",
    "    # Set output path\n",
    "    default_output = os.path.splitext(input_path)[0] + \".mp4\"\n",
    "    output_path = input(f\"Enter output path (default: {default_output}): \").strip().strip('\"')\n",
    "    if not output_path:\n",
    "        output_path = default_output\n",
    "\n",
    "    # Get conversion parameters\n",
    "    try:\n",
    "        framerate = int(input(\"Enter framerate (default: 30): \") or \"30\")\n",
    "        crf = int(input(\"Enter CRF value (0-51, lower is better quality, default: 23): \") or \"23\")\n",
    "        preset = input(\"Enter preset (ultrafast, superfast, veryfast, faster, fast, medium, slow, slower, veryslow, default: medium): \") or \"medium\"\n",
    "\n",
    "        # Validate preset\n",
    "        valid_presets = ['ultrafast', 'superfast', 'veryfast', 'faster', 'fast', 'medium', 'slow', 'slower', 'veryslow']\n",
    "        if preset not in valid_presets:\n",
    "            print(f\"Invalid preset. Using 'medium' instead.\")\n",
    "            preset = 'medium'\n",
    "\n",
    "    except ValueError:\n",
    "        print(\"Invalid input. Using default values.\")\n",
    "        framerate = 30\n",
    "        crf = 23\n",
    "        preset = 'medium'\n",
    "\n",
    "    # Ask for audio file\n",
    "    audio_path = input(\"Enter path to audio file (optional, press Enter to skip): \").strip().strip('\"')\n",
    "    if audio_path and not os.path.exists(audio_path):\n",
    "        print(f\"Audio file {audio_path} does not exist. Proceeding without audio.\")\n",
    "        audio_path = None\n",
    "\n",
    "    # Confirm conversion\n",
    "    print(\"\\nConversion settings:\")\n",
    "    print(f\"Input: {input_path}\")\n",
    "    print(f\"Output: {output_path}\")\n",
    "    print(f\"Framerate: {framerate}\")\n",
    "    print(f\"CRF: {crf}\")\n",
    "    print(f\"Preset: {preset}\")\n",
    "    print(f\"Audio: {audio_path if audio_path else 'None'}\")\n",
    "\n",
    "    confirm = input(\"\\nProceed with conversion? (y/n): \").strip().lower()\n",
    "    if confirm != 'y':\n",
    "        print(\"Conversion cancelled.\")\n",
    "        return\n",
    "\n",
    "    # Perform conversion\n",
    "    print(\"Starting conversion...\")\n",
    "    start_time = time.time()\n",
    "\n",
    "    success = h264_to_mp4(input_path, output_path, framerate, crf, preset, audio_path)\n",
    "\n",
    "    if success:\n",
    "        end_time = time.time()\n",
    "        print(f\"Conversion completed in {end_time - start_time:.2f} seconds\")\n",
    "\n",
    "        # Get and display video info\n",
    "        print(\"\\nOriginal H.264 file info:\")\n",
    "        orig_info = get_video_info(input_path)\n",
    "        display_video_info(orig_info)\n",
    "\n",
    "        print(\"\\nConverted MP4 file info:\")\n",
    "        mp4_info = get_video_info(output_path)\n",
    "        display_video_info(mp4_info)\n",
    "\n",
    "        # Display the video\n",
    "        print(\"\\nDisplaying converted video:\")\n",
    "        return show_video(output_path)\n",
    "    else:\n",
    "        print(\"Conversion failed.\")\n",
    "\n",
    "# Run the conversion process\n",
    "convert_h264_to_mp4()"
   ]
  },
  {
   "cell_type": "code",
   "execution_count": null,
   "id": "a189fd8d",
   "metadata": {},
   "outputs": [],
   "source": []
  }
 ],
 "metadata": {
  "kernelspec": {
   "display_name": "rc_venv",
   "language": "python",
   "name": "python3"
  },
  "language_info": {
   "codemirror_mode": {
    "name": "ipython",
    "version": 3
   },
   "file_extension": ".py",
   "mimetype": "text/x-python",
   "name": "python",
   "nbconvert_exporter": "python",
   "pygments_lexer": "ipython3",
   "version": "3.12.3"
  }
 },
 "nbformat": 4,
 "nbformat_minor": 5
}
